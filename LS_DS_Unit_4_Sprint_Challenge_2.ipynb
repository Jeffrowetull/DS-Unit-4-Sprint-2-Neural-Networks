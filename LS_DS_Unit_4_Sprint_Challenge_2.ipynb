{
  "nbformat": 4,
  "nbformat_minor": 0,
  "metadata": {
    "kernel_info": {
      "name": "python3"
    },
    "kernelspec": {
      "display_name": "Python 3",
      "language": "python",
      "name": "python3"
    },
    "language_info": {
      "codemirror_mode": {
        "name": "ipython",
        "version": 3
      },
      "file_extension": ".py",
      "mimetype": "text/x-python",
      "name": "python",
      "nbconvert_exporter": "python",
      "pygments_lexer": "ipython3",
      "version": "3.7.3"
    },
    "nteract": {
      "version": "0.14.3"
    },
    "colab": {
      "name": "LS_DS_Unit_4_Sprint_Challenge_2.ipynb",
      "version": "0.3.2",
      "provenance": [],
      "include_colab_link": true
    }
  },
  "cells": [
    {
      "cell_type": "markdown",
      "metadata": {
        "id": "view-in-github",
        "colab_type": "text"
      },
      "source": [
        "<a href=\"https://colab.research.google.com/github/Jeffrowetull/DS-Unit-4-Sprint-2-Neural-Networks/blob/master/LS_DS_Unit_4_Sprint_Challenge_2.ipynb\" target=\"_parent\"><img src=\"https://colab.research.google.com/assets/colab-badge.svg\" alt=\"Open In Colab\"/></a>"
      ]
    },
    {
      "cell_type": "markdown",
      "metadata": {
        "id": "qnZQ4wptxMB0",
        "colab_type": "text"
      },
      "source": [
        "<img align=\"left\" src=\"https://lever-client-logos.s3.amazonaws.com/864372b1-534c-480e-acd5-9711f850815c-1524247202159.png\" width=200>\n",
        "<br></br>\n",
        "<br></br>\n",
        "\n",
        "## *Data Science Unit 4 Sprint 2*\n",
        "\n",
        "# Sprint Challenge - Neural Network Foundations\n",
        "\n",
        "Table of Problems\n",
        "\n",
        "1. [Defining Neural Networks](#Q1)\n",
        "2. [Perceptron on XOR Gates](#Q2)\n",
        "3. [Multilayer Perceptron](#Q3)\n",
        "4. [Keras MMP](#Q4)"
      ]
    },
    {
      "cell_type": "code",
      "metadata": {
        "id": "DNlfi_DWP40g",
        "colab_type": "code",
        "colab": {}
      },
      "source": [
        "!pip install talos"
      ],
      "execution_count": 0,
      "outputs": []
    },
    {
      "cell_type": "code",
      "metadata": {
        "inputHidden": false,
        "outputHidden": false,
        "id": "ZalLsSX0xMCA",
        "colab_type": "code",
        "colab": {}
      },
      "source": [
        "import numpy as np\n",
        "import pandas as pd\n",
        "import matplotlib.pyplot as plt\n",
        "from sklearn.preprocessing import StandardScaler\n",
        "from sklearn.pipeline import Pipeline\n",
        "from sklearn.model_selection import train_test_split, GridSearchCV, StratifiedKFold, cross_val_score\n",
        "from keras.wrappers.scikit_learn import KerasClassifier\n",
        "from keras.models import Sequential\n",
        "from keras.optimizers import SGD, Adam, Nadam\n",
        "from keras.layers import Dense, Dropout\n",
        "from keras.models import Sequential\n",
        "from keras.layers import Dense\n",
        "from sklearn.model_selection import StratifiedKFold\n",
        "from sklearn.model_selection import GridSearchCV\n",
        "from keras.losses import binary_crossentropy\n",
        "from keras.activations import relu, elu\n",
        "import talos as ta\n",
        "from talos import live"
      ],
      "execution_count": 0,
      "outputs": []
    },
    {
      "cell_type": "markdown",
      "metadata": {
        "id": "1C13qS-axMB5",
        "colab_type": "text"
      },
      "source": [
        "<a id=\"Q1\"></a>\n",
        "## 1. Define the following terms:\n",
        "\n",
        "- **Neuron:** Neurons receive inputs and then pass on their signal if a threshold is passed.\n",
        "- **Input Layer:** This layer receives direct input from out dataset. Also known as the visible layer because it is the only interactable part of the neural network.\n",
        "- **Hidden Layer:** These are the layers after the input layers. They are called hidden because we cannot interact with them and see what they are doing, giving the neural network a connotation of a black box model. \n",
        "- **Output Layer:** The final layer of a neural network is the output layer. It produces results that are interpretable and useful for the given problem.\n",
        "- **Activation:** The activation functions defines whether a given neuron should be activated based on the weighted sum. There are many different activation functions such as sigmoid, step function, linear function, relu, elu, etc.\n",
        "- **Backpropagation:** Backpropagation is an optimazation algorithm that changes all the weights of the neurons based on the gradient of the loss function.\n"
      ]
    },
    {
      "cell_type": "markdown",
      "metadata": {
        "id": "Iz36DT4AxMB6",
        "colab_type": "text"
      },
      "source": [
        "## 2. Perceptron on AND Gates <a id=\"Q3=2\"></a>\n",
        "\n",
        "Create a perceptron class that can model the behavior of an AND gate. You can use the following table as your training data:\n",
        "\n",
        "|x1\t|x2|x3|\ty|\n",
        "|---|---|---|---|\n",
        "1|\t1|\t1|\t1|\n",
        "1|\t0|\t1|\t0|\n",
        "0|\t1|\t1|\t0|\n",
        "0|\t0|\t1|\t0|"
      ]
    },
    {
      "cell_type": "code",
      "metadata": {
        "id": "GV9HnDVA7S46",
        "colab_type": "code",
        "colab": {}
      },
      "source": [
        "def sigmoid(x):\n",
        "  return 1/(1+np.exp(-x))\n",
        "\n",
        "def sigmoid_derivative(x):\n",
        "  sx = sigmoid(x)\n",
        "  return sx * (1-sx)"
      ],
      "execution_count": 0,
      "outputs": []
    },
    {
      "cell_type": "code",
      "metadata": {
        "id": "4bInqwmD4Yc3",
        "colab_type": "code",
        "colab": {}
      },
      "source": [
        "X = np.array([[1,1,1],\n",
        "            [1,0,1],\n",
        "            [0,1,1],\n",
        "            [0,0,1]])\n",
        "y = [[1],[0],[0],[0]]"
      ],
      "execution_count": 0,
      "outputs": []
    },
    {
      "cell_type": "code",
      "metadata": {
        "id": "xjcTOgrq8wXR",
        "colab_type": "code",
        "colab": {
          "base_uri": "https://localhost:8080/",
          "height": 109
        },
        "outputId": "075badbb-4e78-4052-d87a-24e6d621fa48"
      },
      "source": [
        "weights = 2 * np.random.random((3,1)) - 1\n",
        "\n",
        "for iteration in range(10000):\n",
        "  #weighted sum of inputs/weights\n",
        "  weighted_sum = np.dot(X,weights)\n",
        "  \n",
        "  #activate!\n",
        "  activated_output = sigmoid(weighted_sum)\n",
        "  #calculate error\n",
        "  error = y - activated_output\n",
        "  #adjustments\n",
        "  adjustments = error * sigmoid_derivative(activated_output)\n",
        "  \n",
        "  weights+= np.dot(X.T, adjustments)\n",
        "  \n",
        "\n",
        "\n",
        "print('output after training')\n",
        "print(activated_output)"
      ],
      "execution_count": 20,
      "outputs": [
        {
          "output_type": "stream",
          "text": [
            "output after training\n",
            "[[9.96429848e-01]\n",
            " [2.00883583e-03]\n",
            " [2.00883583e-03]\n",
            " [1.45169524e-08]]\n"
          ],
          "name": "stdout"
        }
      ]
    },
    {
      "cell_type": "markdown",
      "metadata": {
        "id": "2oZRYNgsxMCJ",
        "colab_type": "text"
      },
      "source": [
        "## 3. Multilayer Perceptron <a id=\"Q3\"></a>\n",
        "\n",
        "Implement a Neural Network Multilayer Perceptron class that uses backpropagation to update the network's weights.\n",
        "Your network must have one hidden layer.\n",
        "You do not have to update weights via gradient descent. You can use something like the derivative of the sigmoid function to update weights.\n",
        "Train your model on the Heart Disease dataset from UCI:\n",
        "\n"
      ]
    },
    {
      "cell_type": "code",
      "metadata": {
        "inputHidden": false,
        "outputHidden": false,
        "id": "sHU1dUuZxMCM",
        "colab_type": "code",
        "colab": {
          "base_uri": "https://localhost:8080/",
          "height": 206
        },
        "outputId": "40cd576b-935a-4f9e-efdf-0b30ab02ad0e"
      },
      "source": [
        "data = pd.read_csv('https://raw.githubusercontent.com/ryanleeallred/datasets/master/heart.csv')\n",
        "data.head()"
      ],
      "execution_count": 2,
      "outputs": [
        {
          "output_type": "execute_result",
          "data": {
            "text/html": [
              "<div>\n",
              "<style scoped>\n",
              "    .dataframe tbody tr th:only-of-type {\n",
              "        vertical-align: middle;\n",
              "    }\n",
              "\n",
              "    .dataframe tbody tr th {\n",
              "        vertical-align: top;\n",
              "    }\n",
              "\n",
              "    .dataframe thead th {\n",
              "        text-align: right;\n",
              "    }\n",
              "</style>\n",
              "<table border=\"1\" class=\"dataframe\">\n",
              "  <thead>\n",
              "    <tr style=\"text-align: right;\">\n",
              "      <th></th>\n",
              "      <th>age</th>\n",
              "      <th>sex</th>\n",
              "      <th>cp</th>\n",
              "      <th>trestbps</th>\n",
              "      <th>chol</th>\n",
              "      <th>fbs</th>\n",
              "      <th>restecg</th>\n",
              "      <th>thalach</th>\n",
              "      <th>exang</th>\n",
              "      <th>oldpeak</th>\n",
              "      <th>slope</th>\n",
              "      <th>ca</th>\n",
              "      <th>thal</th>\n",
              "      <th>target</th>\n",
              "    </tr>\n",
              "  </thead>\n",
              "  <tbody>\n",
              "    <tr>\n",
              "      <th>0</th>\n",
              "      <td>63</td>\n",
              "      <td>1</td>\n",
              "      <td>3</td>\n",
              "      <td>145</td>\n",
              "      <td>233</td>\n",
              "      <td>1</td>\n",
              "      <td>0</td>\n",
              "      <td>150</td>\n",
              "      <td>0</td>\n",
              "      <td>2.3</td>\n",
              "      <td>0</td>\n",
              "      <td>0</td>\n",
              "      <td>1</td>\n",
              "      <td>1</td>\n",
              "    </tr>\n",
              "    <tr>\n",
              "      <th>1</th>\n",
              "      <td>37</td>\n",
              "      <td>1</td>\n",
              "      <td>2</td>\n",
              "      <td>130</td>\n",
              "      <td>250</td>\n",
              "      <td>0</td>\n",
              "      <td>1</td>\n",
              "      <td>187</td>\n",
              "      <td>0</td>\n",
              "      <td>3.5</td>\n",
              "      <td>0</td>\n",
              "      <td>0</td>\n",
              "      <td>2</td>\n",
              "      <td>1</td>\n",
              "    </tr>\n",
              "    <tr>\n",
              "      <th>2</th>\n",
              "      <td>41</td>\n",
              "      <td>0</td>\n",
              "      <td>1</td>\n",
              "      <td>130</td>\n",
              "      <td>204</td>\n",
              "      <td>0</td>\n",
              "      <td>0</td>\n",
              "      <td>172</td>\n",
              "      <td>0</td>\n",
              "      <td>1.4</td>\n",
              "      <td>2</td>\n",
              "      <td>0</td>\n",
              "      <td>2</td>\n",
              "      <td>1</td>\n",
              "    </tr>\n",
              "    <tr>\n",
              "      <th>3</th>\n",
              "      <td>56</td>\n",
              "      <td>1</td>\n",
              "      <td>1</td>\n",
              "      <td>120</td>\n",
              "      <td>236</td>\n",
              "      <td>0</td>\n",
              "      <td>1</td>\n",
              "      <td>178</td>\n",
              "      <td>0</td>\n",
              "      <td>0.8</td>\n",
              "      <td>2</td>\n",
              "      <td>0</td>\n",
              "      <td>2</td>\n",
              "      <td>1</td>\n",
              "    </tr>\n",
              "    <tr>\n",
              "      <th>4</th>\n",
              "      <td>57</td>\n",
              "      <td>0</td>\n",
              "      <td>0</td>\n",
              "      <td>120</td>\n",
              "      <td>354</td>\n",
              "      <td>0</td>\n",
              "      <td>1</td>\n",
              "      <td>163</td>\n",
              "      <td>1</td>\n",
              "      <td>0.6</td>\n",
              "      <td>2</td>\n",
              "      <td>0</td>\n",
              "      <td>2</td>\n",
              "      <td>1</td>\n",
              "    </tr>\n",
              "  </tbody>\n",
              "</table>\n",
              "</div>"
            ],
            "text/plain": [
              "   age  sex  cp  trestbps  chol  fbs  ...  exang  oldpeak  slope  ca  thal  target\n",
              "0   63    1   3       145   233    1  ...      0      2.3      0   0     1       1\n",
              "1   37    1   2       130   250    0  ...      0      3.5      0   0     2       1\n",
              "2   41    0   1       130   204    0  ...      0      1.4      2   0     2       1\n",
              "3   56    1   1       120   236    0  ...      0      0.8      2   0     2       1\n",
              "4   57    0   0       120   354    0  ...      1      0.6      2   0     2       1\n",
              "\n",
              "[5 rows x 14 columns]"
            ]
          },
          "metadata": {
            "tags": []
          },
          "execution_count": 2
        }
      ]
    },
    {
      "cell_type": "code",
      "metadata": {
        "id": "DzEY4T1mBgRk",
        "colab_type": "code",
        "colab": {
          "base_uri": "https://localhost:8080/",
          "height": 54
        },
        "outputId": "5eeea287-8cf3-4875-b46c-b46a46eeaf8f"
      },
      "source": [
        "y=data['target'].values.reshape(-1,1)\n",
        "X=data.drop(columns='target').values\n",
        "\n",
        "print('inputs:',X.shape)\n",
        "print('labels:',y.shape)"
      ],
      "execution_count": 3,
      "outputs": [
        {
          "output_type": "stream",
          "text": [
            "inputs: (303, 13)\n",
            "labels: (303, 1)\n"
          ],
          "name": "stdout"
        }
      ]
    },
    {
      "cell_type": "code",
      "metadata": {
        "id": "TxQ51ECfATAc",
        "colab_type": "code",
        "colab": {}
      },
      "source": [
        "class NeuralNetwork:\n",
        "  def __init__(self):\n",
        "    \n",
        "    self.inputs = 13\n",
        "    self.L1hiddenNodes = 4\n",
        "    self.L2hiddenNodes = 4\n",
        "    self.outputNodes = 1\n",
        "    \n",
        "    self.L1_weights= np.random.randn(self.inputs,self.L1hiddenNodes)\n",
        "    self.L2_weights= np.random.randn(self.L1hiddenNodes, self.L2hiddenNodes)\n",
        "    self.output_weights= np.random.randn(self.L2hiddenNodes, self.outputNodes)\n",
        "  \n",
        "  def sigmoid(self, s):\n",
        "    return 1/ (1+np.exp(-s))\n",
        "  \n",
        "  def sigmoidPrime(self, s):\n",
        "    return s * (1 - s)\n",
        "  \n",
        "  def feed_forward(self,X):\n",
        "    '''\n",
        "    Calculate the NN inference using feed forward.\n",
        "    '''\n",
        "    \n",
        "    self.L1_activated = self.sigmoid(np.dot(X, self.L1_weights))\n",
        "    self.L2_activated = self.sigmoid(np.dot(self.L1_activated, self.L2_weights))\n",
        "    \n",
        "    self.activated_output = self.sigmoid(np.dot(self.L2_activated, \n",
        "                                                self.output_weights))\n",
        "    \n",
        "    return self.activated_output\n",
        "  \n",
        "  def back_prop(self, X, y , output):\n",
        "    '''\n",
        "    Backward propagate through the network\n",
        "    '''\n",
        "    \n",
        "    self.output_error = y - output\n",
        "    self.output_delta = self.output_error * self.sigmoidPrime(output)\n",
        "    \n",
        "    self.L2_error = self.output_delta.dot(self.output_weights.T)\n",
        "    self.L2_delta = self.L2_error * self.sigmoidPrime(self.L2_activated)\n",
        "    \n",
        "    self.L1_error = self.L2_delta.dot(self.L2_weights.T)\n",
        "    self.L1_delta = self.L1_error * self.sigmoidPrime(self.L1_activated)\n",
        "    \n",
        "    self.L1_weights += X.T.dot(self.L1_delta)\n",
        "    self.L2_weights += self.L1_activated.T.dot(self.L2_delta)\n",
        "    self.output_weights += self.L2_activated.T.dot(self.output_delta)\n",
        "    \n",
        "  def train(self, X, y):\n",
        "    output = self.feed_forward(X)\n",
        "    self.back_prop(X, y, output)"
      ],
      "execution_count": 0,
      "outputs": []
    },
    {
      "cell_type": "code",
      "metadata": {
        "id": "nLv-D6MeEvQ-",
        "colab_type": "code",
        "colab": {
          "base_uri": "https://localhost:8080/",
          "height": 1000
        },
        "outputId": "045a3bf3-931e-4302-e67b-00691a6b441e"
      },
      "source": [
        "model = NeuralNetwork()\n",
        "epochs=1000\n",
        "\n",
        "for i in range (epochs):\n",
        "  if (i+1 in [1,2,3,4,5]) or ((i+1) % 50 ==0):\n",
        "    print('epoch' ,i+1)\n",
        "    print('Loss: \\n' + str(np.mean(np.square(y-model.feed_forward(X)))))\n",
        "  model.train(X,y)"
      ],
      "execution_count": 33,
      "outputs": [
        {
          "output_type": "stream",
          "text": [
            "epoch 1\n",
            "Loss: \n",
            "0.3002162313332033\n",
            "epoch 2\n",
            "Loss: \n",
            "0.2497805597582963\n",
            "epoch 3\n",
            "Loss: \n",
            "0.24970687674284373\n",
            "epoch 4\n",
            "Loss: \n",
            "0.24960647397856564\n",
            "epoch 5\n",
            "Loss: \n",
            "0.2494628596314568\n",
            "epoch 50\n",
            "Loss: \n",
            "0.24801490049995104\n",
            "epoch 100\n",
            "Loss: \n",
            "0.24801490049995098\n",
            "epoch 150\n",
            "Loss: \n",
            "0.24801490049995106\n",
            "epoch 200\n",
            "Loss: \n",
            "0.24801490049995106\n",
            "epoch 250\n",
            "Loss: \n",
            "0.24801490049995098\n",
            "epoch 300\n",
            "Loss: \n",
            "0.24801490049995098\n",
            "epoch 350\n",
            "Loss: \n",
            "0.24801490049995098\n",
            "epoch 400\n",
            "Loss: \n",
            "0.24801490049995104\n",
            "epoch 450\n",
            "Loss: \n",
            "0.24801490049995104\n",
            "epoch 500\n",
            "Loss: \n",
            "0.24801490049995098\n",
            "epoch 550\n",
            "Loss: \n",
            "0.24801490049995104\n",
            "epoch 600\n",
            "Loss: \n",
            "0.24801490049995104\n",
            "epoch 650\n",
            "Loss: \n",
            "0.24801490049995104\n",
            "epoch 700\n",
            "Loss: \n",
            "0.24801490049995106\n",
            "epoch 750\n",
            "Loss: \n",
            "0.24801490049995104\n",
            "epoch 800\n",
            "Loss: \n",
            "0.24801490049995106\n",
            "epoch 850\n",
            "Loss: \n",
            "0.24801490049995106\n",
            "epoch 900\n",
            "Loss: \n",
            "0.24801490049995106\n",
            "epoch 950\n",
            "Loss: \n",
            "0.24801490049995106\n",
            "epoch 1000\n",
            "Loss: \n",
            "0.24801490049995098\n"
          ],
          "name": "stdout"
        }
      ]
    },
    {
      "cell_type": "markdown",
      "metadata": {
        "id": "OcNrCjGCxMCl",
        "colab_type": "text"
      },
      "source": [
        "## 4. Keras MMP <a id=\"Q4\"></a>\n",
        "\n",
        "Implement a Multilayer Perceptron architecture of your choosing using the Keras library. Train your model and report its baseline accuracy. Then hyperparameter tune at least two parameters and report your model's accuracy.\n",
        "Use the Heart Disease Dataset (binary classification)\n",
        "Use an appropriate loss function for a binary classification task\n",
        "Use an appropriate activation function on the final layer of your network.\n",
        "Train your model using verbose output for ease of grading.\n",
        "Use GridSearchCV to hyperparameter tune your model. (for at least two hyperparameters)\n",
        "When hyperparameter tuning, show you work by adding code cells for each new experiment.\n",
        "Report the accuracy for each combination of hyperparameters as you test them so that we can easily see which resulted in the highest accuracy.\n",
        "You must hyperparameter tune at least 5 parameters in order to get a 3 on this section."
      ]
    },
    {
      "cell_type": "code",
      "metadata": {
        "inputHidden": false,
        "outputHidden": false,
        "id": "vvECKpcvxMCn",
        "colab_type": "code",
        "colab": {
          "base_uri": "https://localhost:8080/",
          "height": 320
        },
        "outputId": "3074d131-5b8c-4f33-cd57-c57537e23afc"
      },
      "source": [
        "def create_model():\n",
        "  model = Sequential()\n",
        "  model.add(Dense(16, input_dim=13, activation='relu'))\n",
        "  model.add(Dense(1, activation='sigmoid'))\n",
        "  \n",
        "  model.compile(loss='binary_crossentropy', optimizer='adam', metrics=['accuracy'])\n",
        "  return model\n",
        "\n",
        "model = KerasClassifier(build_fn=create_model,verbose=0)\n",
        "\n",
        "batch_size=[10]\n",
        "epochs=[10]\n",
        "param_grid={\n",
        "    'batch_size':batch_size,\n",
        "    'epochs':epochs\n",
        "}\n",
        "\n",
        "c_v= StratifiedKFold(n_splits=5,\n",
        "                     shuffle=True)\n",
        "\n",
        "cv_grid = GridSearchCV(estimator=model, param_grid=param_grid,\n",
        "                       n_jobs=1,\n",
        "                       cv=c_v)\n",
        "\n",
        "xval = cv_grid.fit(X,y)\n",
        "\n",
        "acc=[x*100 for x in xval.best_estimator_.model.history.history['acc']]\n",
        "fig, ax = plt.subplots()\n",
        "ax.plot(acc)\n",
        "ax.set_ylabel('% Accuracy')\n",
        "ax.set_xlabel('# Epochs')\n",
        "ax.set_ylim(50,100)\n",
        "plt.show()\n",
        "\n",
        "print(f'Baseline Cross Validation Score: {xval.best_score_} used {xval.best_params_}\\n')"
      ],
      "execution_count": 38,
      "outputs": [
        {
          "output_type": "display_data",
          "data": {
            "image/png": "[encoded data removed]",
            "text/plain": [
              "<Figure size 432x288 with 1 Axes>"
            ]
          },
          "metadata": {
            "tags": []
          }
        },
        {
          "output_type": "stream",
          "text": [
            "Baseline Cross Validation Score: 0.5214521471816714 used {'batch_size': 10, 'epochs': 10}\n",
            "\n"
          ],
          "name": "stdout"
        }
      ]
    },
    {
      "cell_type": "code",
      "metadata": {
        "id": "1BzIT__wKZ0o",
        "colab_type": "code",
        "colab": {
          "base_uri": "https://localhost:8080/",
          "height": 164
        },
        "outputId": "a8cb5732-894d-444c-97bd-27fe80f05d0d"
      },
      "source": [
        "param_grid={\n",
        "    'batch_size':[10,20,30,40,50],\n",
        "    'epochs':[20]\n",
        "}\n",
        "\n",
        "cv_grid = GridSearchCV(estimator=model, param_grid=param_grid,\n",
        "                       n_jobs=1)\n",
        "\n",
        "grid_result = cv_grid.fit(X,y)\n",
        "\n",
        "print(f\"Best: {grid_result.best_score_} using {grid_result.best_params_}\")\n",
        "means = grid_result.cv_results_['mean_test_score']\n",
        "stds = grid_result.cv_results_['std_test_score']\n",
        "params = grid_result.cv_results_['params']\n",
        "for mean, stdev, param in zip(means, stds, params):\n",
        "    print(f\"Means: {mean}, Stdev: {stdev} with: {param}\") "
      ],
      "execution_count": 43,
      "outputs": [
        {
          "output_type": "stream",
          "text": [
            "/usr/local/lib/python3.6/dist-packages/sklearn/model_selection/_split.py:1978: FutureWarning: The default value of cv will change from 3 to 5 in version 0.22. Specify it explicitly to silence this warning.\n",
            "  warnings.warn(CV_WARNING, FutureWarning)\n"
          ],
          "name": "stderr"
        },
        {
          "output_type": "stream",
          "text": [
            "Best: 0.5973597359244186 using {'batch_size': 10, 'epochs': 20}\n",
            "Means: 0.5973597359244186, Stdev: 0.37400180906805003 with: {'batch_size': 10, 'epochs': 20}\n",
            "Means: 0.5577557810855778, Stdev: 0.41633895705816076 with: {'batch_size': 20, 'epochs': 20}\n",
            "Means: 0.5445544561340471, Stdev: 0.4130821538017203 with: {'batch_size': 30, 'epochs': 20}\n",
            "Means: 0.363036310712103, Stdev: 0.26681694094320957 with: {'batch_size': 40, 'epochs': 20}\n",
            "Means: 0.38613862128737736, Stdev: 0.20403408469656906 with: {'batch_size': 50, 'epochs': 20}\n"
          ],
          "name": "stdout"
        }
      ]
    },
    {
      "cell_type": "code",
      "metadata": {
        "id": "UuEeByOeLurR",
        "colab_type": "code",
        "colab": {
          "base_uri": "https://localhost:8080/",
          "height": 127
        },
        "outputId": "0b301c60-e898-46a0-93e8-a8855108bade"
      },
      "source": [
        "param_grid={\n",
        "    'batch_size':[10],\n",
        "    'epochs':[20,40,60]\n",
        "}\n",
        "\n",
        "cv_grid = GridSearchCV(estimator=model, param_grid=param_grid,\n",
        "                       n_jobs=1)\n",
        "\n",
        "grid_result = cv_grid.fit(X,y)\n",
        "\n",
        "print(f\"Best: {grid_result.best_score_} using {grid_result.best_params_}\")\n",
        "means = grid_result.cv_results_['mean_test_score']\n",
        "stds = grid_result.cv_results_['std_test_score']\n",
        "params = grid_result.cv_results_['params']\n",
        "for mean, stdev, param in zip(means, stds, params):\n",
        "    print(f\"Means: {mean}, Stdev: {stdev} with: {param}\") "
      ],
      "execution_count": 44,
      "outputs": [
        {
          "output_type": "stream",
          "text": [
            "/usr/local/lib/python3.6/dist-packages/sklearn/model_selection/_split.py:1978: FutureWarning: The default value of cv will change from 3 to 5 in version 0.22. Specify it explicitly to silence this warning.\n",
            "  warnings.warn(CV_WARNING, FutureWarning)\n"
          ],
          "name": "stderr"
        },
        {
          "output_type": "stream",
          "text": [
            "Best: 0.6468646876489369 using {'batch_size': 10, 'epochs': 20}\n",
            "Means: 0.6468646876489369, Stdev: 0.2830982999848007 with: {'batch_size': 10, 'epochs': 20}\n",
            "Means: 0.4554455453413154, Stdev: 0.41308215348345934 with: {'batch_size': 10, 'epochs': 40}\n",
            "Means: 0.3267326746443317, Stdev: 0.252167677295782 with: {'batch_size': 10, 'epochs': 60}\n"
          ],
          "name": "stdout"
        }
      ]
    },
    {
      "cell_type": "code",
      "metadata": {
        "id": "ECNF3wTyRYNY",
        "colab_type": "code",
        "colab": {}
      },
      "source": [
        "def create_model(x_train,y_train,x_val,y_val,params):\n",
        "  model = Sequential()\n",
        "  model.add(Dense(params['first_neuron'], input_dim=x_train.shape[1],activation=params['activation']))\n",
        "  model.add(Dropout(params['dropout']))\n",
        "  model.add(Dense(params['second_neuron'], activation=params['last_activation']))\n",
        "  model.add(Dense(1))\n",
        "  model.compile(optimizer='adam', loss=params['losses'],metrics=['accuracy'])\n",
        "  \n",
        "  history = model.fit(x_train,y_train,\n",
        "                     validation_data=[x_val,y_val],\n",
        "                     batch_size=params['batch_size'],\n",
        "                     callbacks=[live()],\n",
        "                     epochs=params['epochs'],\n",
        "                     verbose=1)\n",
        "  \n",
        "  return history,model\n"
      ],
      "execution_count": 0,
      "outputs": []
    },
    {
      "cell_type": "code",
      "metadata": {
        "id": "2Qke1ab3PV9n",
        "colab_type": "code",
        "colab": {}
      },
      "source": [
        "p={\n",
        "    'batch_size':[10,20,40],\n",
        "    'epochs':[20,40],\n",
        "    'first_neuron':[5,10],\n",
        "    'second_neuron':[5,10],\n",
        "    'activation':[relu,elu],\n",
        "    'last_activation':[relu,elu],\n",
        "    'dropout':[0,0.5],\n",
        "    #'optimizer':[Adam],\n",
        "    'losses':[binary_crossentropy]    \n",
        "}"
      ],
      "execution_count": 0,
      "outputs": []
    },
    {
      "cell_type": "code",
      "metadata": {
        "id": "lCddz2FHRbFI",
        "colab_type": "code",
        "colab": {
          "base_uri": "https://localhost:8080/",
          "height": 404
        },
        "outputId": "ee7763c9-c9ce-4e79-a58d-eaf412d5b0e3"
      },
      "source": [
        "t = ta.Scan(x=X,\n",
        "            y=y,\n",
        "            model=create_model,\n",
        "            params=p,\n",
        "            dataset_name='indians',\n",
        "            experiment_no='1')"
      ],
      "execution_count": 11,
      "outputs": [
        {
          "output_type": "display_data",
          "data": {
            "image/png": "[encoded data removed]",
            "text/plain": [
              "<Figure size 864x576 with 2 Axes>"
            ]
          },
          "metadata": {
            "tags": []
          }
        },
        {
          "output_type": "stream",
          "text": [
            "\n",
            "\n",
            "100%|██████████| 192/192 [45:04<00:00, 13.23s/it]\u001b[A\u001b[A\n",
            "\n",
            "\u001b[A\u001b[A"
          ],
          "name": "stderr"
        }
      ]
    },
    {
      "cell_type": "code",
      "metadata": {
        "id": "7xlxASKTR9rQ",
        "colab_type": "code",
        "colab": {
          "base_uri": "https://localhost:8080/",
          "height": 206
        },
        "outputId": "62ec7c12-d34d-40f2-9d3a-263e56138d30"
      },
      "source": [
        "t.data.head()"
      ],
      "execution_count": 12,
      "outputs": [
        {
          "output_type": "execute_result",
          "data": {
            "text/html": [
              "<div>\n",
              "<style scoped>\n",
              "    .dataframe tbody tr th:only-of-type {\n",
              "        vertical-align: middle;\n",
              "    }\n",
              "\n",
              "    .dataframe tbody tr th {\n",
              "        vertical-align: top;\n",
              "    }\n",
              "\n",
              "    .dataframe thead th {\n",
              "        text-align: right;\n",
              "    }\n",
              "</style>\n",
              "<table border=\"1\" class=\"dataframe\">\n",
              "  <thead>\n",
              "    <tr style=\"text-align: right;\">\n",
              "      <th></th>\n",
              "      <th>round_epochs</th>\n",
              "      <th>val_loss</th>\n",
              "      <th>val_acc</th>\n",
              "      <th>loss</th>\n",
              "      <th>acc</th>\n",
              "      <th>batch_size</th>\n",
              "      <th>epochs</th>\n",
              "      <th>first_neuron</th>\n",
              "      <th>second_neuron</th>\n",
              "      <th>activation</th>\n",
              "      <th>last_activation</th>\n",
              "      <th>dropout</th>\n",
              "      <th>losses</th>\n",
              "    </tr>\n",
              "  </thead>\n",
              "  <tbody>\n",
              "    <tr>\n",
              "      <th>0</th>\n",
              "      <td>40</td>\n",
              "      <td>8.856096</td>\n",
              "      <td>0.000000</td>\n",
              "      <td>6.434966</td>\n",
              "      <td>0.051887</td>\n",
              "      <td>10</td>\n",
              "      <td>40</td>\n",
              "      <td>10</td>\n",
              "      <td>10</td>\n",
              "      <td>&lt;function relu at 0x7f8fcc6d3950&gt;</td>\n",
              "      <td>&lt;function relu at 0x7f8fcc6d3950&gt;</td>\n",
              "      <td>0.5</td>\n",
              "      <td>&lt;function binary_crossentropy at 0x7f8fcc71fa60&gt;</td>\n",
              "    </tr>\n",
              "    <tr>\n",
              "      <th>1</th>\n",
              "      <td>20</td>\n",
              "      <td>8.856096</td>\n",
              "      <td>0.000000</td>\n",
              "      <td>6.851928</td>\n",
              "      <td>0.042453</td>\n",
              "      <td>10</td>\n",
              "      <td>20</td>\n",
              "      <td>10</td>\n",
              "      <td>5</td>\n",
              "      <td>&lt;function elu at 0x7f8fcc6d3730&gt;</td>\n",
              "      <td>&lt;function relu at 0x7f8fcc6d3950&gt;</td>\n",
              "      <td>0.5</td>\n",
              "      <td>&lt;function binary_crossentropy at 0x7f8fcc71fa60&gt;</td>\n",
              "    </tr>\n",
              "    <tr>\n",
              "      <th>2</th>\n",
              "      <td>20</td>\n",
              "      <td>8.856096</td>\n",
              "      <td>0.000000</td>\n",
              "      <td>8.743306</td>\n",
              "      <td>0.000000</td>\n",
              "      <td>40</td>\n",
              "      <td>20</td>\n",
              "      <td>5</td>\n",
              "      <td>10</td>\n",
              "      <td>&lt;function elu at 0x7f8fcc6d3730&gt;</td>\n",
              "      <td>&lt;function relu at 0x7f8fcc6d3950&gt;</td>\n",
              "      <td>0.0</td>\n",
              "      <td>&lt;function binary_crossentropy at 0x7f8fcc71fa60&gt;</td>\n",
              "    </tr>\n",
              "    <tr>\n",
              "      <th>3</th>\n",
              "      <td>40</td>\n",
              "      <td>6.900900</td>\n",
              "      <td>0.087912</td>\n",
              "      <td>7.157742</td>\n",
              "      <td>0.099057</td>\n",
              "      <td>40</td>\n",
              "      <td>40</td>\n",
              "      <td>5</td>\n",
              "      <td>5</td>\n",
              "      <td>&lt;function relu at 0x7f8fcc6d3950&gt;</td>\n",
              "      <td>&lt;function elu at 0x7f8fcc6d3730&gt;</td>\n",
              "      <td>0.0</td>\n",
              "      <td>&lt;function binary_crossentropy at 0x7f8fcc71fa60&gt;</td>\n",
              "    </tr>\n",
              "    <tr>\n",
              "      <th>4</th>\n",
              "      <td>20</td>\n",
              "      <td>7.182833</td>\n",
              "      <td>0.000000</td>\n",
              "      <td>7.294393</td>\n",
              "      <td>0.000000</td>\n",
              "      <td>40</td>\n",
              "      <td>20</td>\n",
              "      <td>5</td>\n",
              "      <td>5</td>\n",
              "      <td>&lt;function elu at 0x7f8fcc6d3730&gt;</td>\n",
              "      <td>&lt;function relu at 0x7f8fcc6d3950&gt;</td>\n",
              "      <td>0.0</td>\n",
              "      <td>&lt;function binary_crossentropy at 0x7f8fcc71fa60&gt;</td>\n",
              "    </tr>\n",
              "  </tbody>\n",
              "</table>\n",
              "</div>"
            ],
            "text/plain": [
              "   round_epochs  ...                                            losses\n",
              "0            40  ...  <function binary_crossentropy at 0x7f8fcc71fa60>\n",
              "1            20  ...  <function binary_crossentropy at 0x7f8fcc71fa60>\n",
              "2            20  ...  <function binary_crossentropy at 0x7f8fcc71fa60>\n",
              "3            40  ...  <function binary_crossentropy at 0x7f8fcc71fa60>\n",
              "4            20  ...  <function binary_crossentropy at 0x7f8fcc71fa60>\n",
              "\n",
              "[5 rows x 13 columns]"
            ]
          },
          "metadata": {
            "tags": []
          },
          "execution_count": 12
        }
      ]
    },
    {
      "cell_type": "code",
      "metadata": {
        "id": "jA8wGWByeTwP",
        "colab_type": "code",
        "colab": {}
      },
      "source": [
        "r = ta.Reporting(t)"
      ],
      "execution_count": 0,
      "outputs": []
    },
    {
      "cell_type": "code",
      "metadata": {
        "id": "l0uVWdPoeejv",
        "colab_type": "code",
        "colab": {
          "base_uri": "https://localhost:8080/",
          "height": 568
        },
        "outputId": "e9c5e743-e83f-4d39-f1f3-2972cdce5271"
      },
      "source": [
        "r.best_params()"
      ],
      "execution_count": 14,
      "outputs": [
        {
          "output_type": "execute_result",
          "data": {
            "text/plain": [
              "array([[5, '<function relu at 0x7f8fcc6d3950>', 40,\n",
              "        '<function binary_crossentropy at 0x7f8fcc71fa60>', 10,\n",
              "        '<function relu at 0x7f8fcc6d3950>', 0.0, 20, 0],\n",
              "       [5, '<function elu at 0x7f8fcc6d3730>', 40,\n",
              "        '<function binary_crossentropy at 0x7f8fcc71fa60>', 10,\n",
              "        '<function relu at 0x7f8fcc6d3950>', 0.0, 20, 1],\n",
              "       [5, '<function relu at 0x7f8fcc6d3950>', 20,\n",
              "        '<function binary_crossentropy at 0x7f8fcc71fa60>', 10,\n",
              "        '<function elu at 0x7f8fcc6d3730>', 0.0, 20, 2],\n",
              "       [5, '<function elu at 0x7f8fcc6d3730>', 40,\n",
              "        '<function binary_crossentropy at 0x7f8fcc71fa60>', 5,\n",
              "        '<function relu at 0x7f8fcc6d3950>', 0.0, 10, 3],\n",
              "       [5, '<function elu at 0x7f8fcc6d3730>', 20,\n",
              "        '<function binary_crossentropy at 0x7f8fcc71fa60>', 5,\n",
              "        '<function relu at 0x7f8fcc6d3950>', 0.5, 20, 4],\n",
              "       [5, '<function relu at 0x7f8fcc6d3950>', 40,\n",
              "        '<function binary_crossentropy at 0x7f8fcc71fa60>', 5,\n",
              "        '<function elu at 0x7f8fcc6d3730>', 0.5, 20, 5],\n",
              "       [5, '<function elu at 0x7f8fcc6d3730>', 40,\n",
              "        '<function binary_crossentropy at 0x7f8fcc71fa60>', 5,\n",
              "        '<function relu at 0x7f8fcc6d3950>', 0.0, 40, 6],\n",
              "       [5, '<function relu at 0x7f8fcc6d3950>', 40,\n",
              "        '<function binary_crossentropy at 0x7f8fcc71fa60>', 5,\n",
              "        '<function relu at 0x7f8fcc6d3950>', 0.5, 10, 7],\n",
              "       [5, '<function elu at 0x7f8fcc6d3730>', 20,\n",
              "        '<function binary_crossentropy at 0x7f8fcc71fa60>', 10,\n",
              "        '<function elu at 0x7f8fcc6d3730>', 0.5, 20, 8],\n",
              "       [10, '<function elu at 0x7f8fcc6d3730>', 20,\n",
              "        '<function binary_crossentropy at 0x7f8fcc71fa60>', 5,\n",
              "        '<function relu at 0x7f8fcc6d3950>', 0.0, 10, 9]], dtype=object)"
            ]
          },
          "metadata": {
            "tags": []
          },
          "execution_count": 14
        }
      ]
    },
    {
      "cell_type": "code",
      "metadata": {
        "id": "RRPT-X7Hehn5",
        "colab_type": "code",
        "colab": {
          "base_uri": "https://localhost:8080/",
          "height": 570
        },
        "outputId": "a1c8de04-0053-4be3-ce85-196f7e6c0ee5"
      },
      "source": [
        "r.plot_corr()"
      ],
      "execution_count": 15,
      "outputs": [
        {
          "output_type": "display_data",
          "data": {
            "image/png": "[encoded data removed]",
            "text/plain": [
              "<Figure size 576x576 with 2 Axes>"
            ]
          },
          "metadata": {
            "tags": []
          }
        }
      ]
    },
    {
      "cell_type": "code",
      "metadata": {
        "id": "WwfzT9loeoBf",
        "colab_type": "code",
        "colab": {}
      },
      "source": [
        ""
      ],
      "execution_count": 0,
      "outputs": []
    }
  ]
}