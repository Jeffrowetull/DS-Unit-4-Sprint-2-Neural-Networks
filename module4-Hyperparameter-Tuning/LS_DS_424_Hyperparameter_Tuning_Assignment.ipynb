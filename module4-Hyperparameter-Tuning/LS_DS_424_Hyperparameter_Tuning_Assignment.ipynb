{
  "nbformat": 4,
  "nbformat_minor": 0,
  "metadata": {
    "colab": {
      "name": "LS_DS_434_Hyperparameter_Tuning_Assignment.ipynb",
      "version": "0.3.2",
      "provenance": []
    },
    "kernelspec": {
      "display_name": "Python 3",
      "language": "python",
      "name": "python3"
    },
    "language_info": {
      "codemirror_mode": {
        "name": "ipython",
        "version": 3
      },
      "file_extension": ".py",
      "mimetype": "text/x-python",
      "name": "python",
      "nbconvert_exporter": "python",
      "pygments_lexer": "ipython3",
      "version": "3.7.3"
    }
  },
  "cells": [
    {
      "cell_type": "markdown",
      "metadata": {
        "colab_type": "text",
        "id": "9Ryp-TVm4njD"
      },
      "source": [
        "<img align=\"left\" src=\"https://lever-client-logos.s3.amazonaws.com/864372b1-534c-480e-acd5-9711f850815c-1524247202159.png\" width=200>\n",
        "<br></br>\n",
        "\n",
        "# Hyperparameter Tuning\n",
        "\n",
        "## *Data Science Unit 4 Sprint 2 Assignment 4*\n",
        "\n",
        "## Your Mission, should you choose to accept it...\n",
        "\n",
        "To hyperparameter tune and extract every ounce of accuracy out of this telecom customer churn dataset: <https://drive.google.com/file/d/1dfbAsM9DwA7tYhInyflIpZnYs7VT-0AQ/view> \n",
        "\n",
        "## Requirements\n",
        "\n",
        "- Load the data\n",
        "- Clean the data if necessary (it will be)\n",
        "- Create and fit a baseline Keras MLP model to the data.\n",
        "- Hyperparameter tune (at least) the following parameters:\n",
        " - batch_size\n",
        " - training epochs\n",
        " - optimizer\n",
        " - learning rate (if applicable to optimizer)\n",
        " - momentum (if applicable to optimizer)\n",
        " - activation functions\n",
        " - network weight initialization\n",
        " - dropout regularization\n",
        " - number of neurons in the hidden layer\n",
        " \n",
        " You must use Grid Search and Cross Validation for your initial pass of the above hyperparameters\n",
        " \n",
        " Try and get the maximum accuracy possible out of this data! You'll save big telecoms millions! Doesn't that sound great?\n"
      ]
    },
    {
      "cell_type": "code",
      "metadata": {
        "id": "qjCrZK8HhToD",
        "colab_type": "code",
        "colab": {
          "base_uri": "https://localhost:8080/",
          "height": 35
        },
        "outputId": "7fd7528b-afe4-4fd0-d9a9-4fe4524d372d"
      },
      "source": [
        "from google.colab import drive\n",
        "drive.mount('/content/drive')"
      ],
      "execution_count": 1,
      "outputs": [
        {
          "output_type": "stream",
          "text": [
            "Drive already mounted at /content/drive; to attempt to forcibly remount, call drive.mount(\"/content/drive\", force_remount=True).\n"
          ],
          "name": "stdout"
        }
      ]
    },
    {
      "cell_type": "code",
      "metadata": {
        "colab_type": "code",
        "id": "NNJ-tOBs4jM1",
        "colab": {}
      },
      "source": [
        "import pandas as pd\n",
        "df=pd.read_csv('/content/drive/My Drive/WA_Fn-UseC_-Telco-Customer-Churn.csv')\n",
        "print(df.info())\n",
        "print(df.describe())\n",
        "df.describe(exclude='number')"
      ],
      "execution_count": 0,
      "outputs": []
    },
    {
      "cell_type": "code",
      "metadata": {
        "id": "GewkbHvCiDKk",
        "colab_type": "code",
        "colab": {}
      },
      "source": [
        "#encode gender,partner,dependents,phoneservice,paperlessbilling,churn as 0 or 1\n",
        "\n",
        "columns = ['MultipleLines','InternetService','OnlineSecurity','OnlineBackup','DeviceProtection','TechSupport','StreamingTV','StreamingMovies','Contract','PaymentMethod']\n",
        "\n",
        "for name in columns:\n",
        "  print(name,':',df[name].unique())"
      ],
      "execution_count": 0,
      "outputs": []
    },
    {
      "cell_type": "code",
      "metadata": {
        "id": "o0uhjhCz589N",
        "colab_type": "code",
        "colab": {}
      },
      "source": [
        "import numpy as np\n",
        "df['TotalCharges'] = df['TotalCharges'].replace(' ',np.nan)\n"
      ],
      "execution_count": 0,
      "outputs": []
    },
    {
      "cell_type": "code",
      "metadata": {
        "id": "uR-rtIFp_Y0I",
        "colab_type": "code",
        "colab": {}
      },
      "source": [
        "df=df[df['TotalCharges'].notnull()]\n",
        "df=df.reset_index()[df.columns]\n"
      ],
      "execution_count": 0,
      "outputs": []
    },
    {
      "cell_type": "code",
      "metadata": {
        "id": "ztYE8c0eACJC",
        "colab_type": "code",
        "colab": {}
      },
      "source": [
        "no_i_service=['OnlineSecurity','OnlineBackup','DeviceProtection','TechSupport',\n",
        "              'StreamingTV','StreamingMovies']\n",
        "\n",
        "for column in no_i_service:\n",
        "  df[column] = df[column].replace({'No internet service':'No'})"
      ],
      "execution_count": 0,
      "outputs": []
    },
    {
      "cell_type": "code",
      "metadata": {
        "id": "XU9GifoEBd2c",
        "colab_type": "code",
        "colab": {}
      },
      "source": [
        "df['MultipleLines']=df['MultipleLines'].replace({'No phone service':'No'})"
      ],
      "execution_count": 0,
      "outputs": []
    },
    {
      "cell_type": "code",
      "metadata": {
        "id": "prHlHE4SAjR6",
        "colab_type": "code",
        "colab": {}
      },
      "source": [
        "two_options=['gender','Partner','Dependents','PhoneService','PaperlessBilling',\n",
        "             'Churn','OnlineSecurity','OnlineBackup','DeviceProtection',\n",
        "             'TechSupport','StreamingTV','StreamingMovies','MultipleLines']\n",
        "\n",
        "for column in two_options:\n",
        "  df[column] = df[column].replace({'Yes':1,'No':0})\n",
        "  \n",
        "df['gender']=df['gender'].replace({'Male':1,'Female':0})"
      ],
      "execution_count": 0,
      "outputs": []
    },
    {
      "cell_type": "code",
      "metadata": {
        "id": "PoLi36c-EFWy",
        "colab_type": "code",
        "colab": {}
      },
      "source": [
        "whats_left=['InternetService','Contract','PaymentMethod']\n",
        "\n",
        "df = pd.get_dummies(df,columns=whats_left)"
      ],
      "execution_count": 0,
      "outputs": []
    },
    {
      "cell_type": "code",
      "metadata": {
        "id": "jHos_4r-Fbf4",
        "colab_type": "code",
        "colab": {}
      },
      "source": [
        "df=df.drop(columns='customerID')"
      ],
      "execution_count": 0,
      "outputs": []
    },
    {
      "cell_type": "code",
      "metadata": {
        "id": "FASZgtRaHpD-",
        "colab_type": "code",
        "colab": {
          "base_uri": "https://localhost:8080/",
          "height": 35
        },
        "outputId": "28f18eec-7547-4480-c38d-d5de2eda9bcc"
      },
      "source": [
        "import keras\n",
        "from keras.models import Sequential\n",
        "from keras.layers import Dense"
      ],
      "execution_count": 11,
      "outputs": [
        {
          "output_type": "stream",
          "text": [
            "Using TensorFlow backend.\n"
          ],
          "name": "stderr"
        }
      ]
    },
    {
      "cell_type": "code",
      "metadata": {
        "id": "W0BoqjWZ7o-2",
        "colab_type": "code",
        "colab": {}
      },
      "source": [
        "!pip install wrangle"
      ],
      "execution_count": 0,
      "outputs": []
    },
    {
      "cell_type": "code",
      "metadata": {
        "id": "MYc6_3-gH5IC",
        "colab_type": "code",
        "colab": {
          "base_uri": "https://localhost:8080/",
          "height": 256
        },
        "outputId": "dbfbcd5b-c36f-40a0-87a4-48e66ab021a9"
      },
      "source": [
        "from sklearn.preprocessing import MinMaxScaler\n",
        "from talos.metrics.keras_metrics import fmeasure_acc\n",
        "from talos import live\n",
        "x=df.drop(columns='Churn')\n",
        "y=df['Churn']\n",
        "\n",
        "scaler = StandardScaler()\n",
        "x = scaler.fit_transform(x)\n",
        "print(x)"
      ],
      "execution_count": 23,
      "outputs": [
        {
          "output_type": "stream",
          "text": [
            "[[-1.00943013 -0.44032709  1.03561683 ... -0.5253508   1.40476387\n",
            "  -0.54360352]\n",
            " [ 0.99065797 -0.44032709 -0.9656081  ... -0.5253508  -0.71186341\n",
            "   1.83957601]\n",
            " [ 0.99065797 -0.44032709 -0.9656081  ... -0.5253508  -0.71186341\n",
            "   1.83957601]\n",
            " ...\n",
            " [-1.00943013 -0.44032709  1.03561683 ... -0.5253508   1.40476387\n",
            "  -0.54360352]\n",
            " [ 0.99065797  2.27103902  1.03561683 ... -0.5253508  -0.71186341\n",
            "   1.83957601]\n",
            " [ 0.99065797 -0.44032709 -0.9656081  ... -0.5253508  -0.71186341\n",
            "  -0.54360352]]\n"
          ],
          "name": "stdout"
        }
      ]
    },
    {
      "cell_type": "code",
      "metadata": {
        "id": "RfRjdWEaJXbi",
        "colab_type": "code",
        "colab": {}
      },
      "source": [
        "inputs = x.shape[1]\n",
        "epochs = 50\n",
        "batch_size = 10\n",
        "\n",
        "model = Sequential()\n",
        "model.add(Dense(64, activation='relu', input_shape=(inputs,)))\n",
        "model.add(Dense(64, activation='relu'))\n",
        "model.add(Dense(1))\n",
        "\n",
        "model.compile(optimizer='adam', loss='binary_crossentropy',metrics=['accuracy'])\n",
        "\n",
        "model.fit(x,y,validation_split=0.33, epochs=epochs,batch_size=batch_size)"
      ],
      "execution_count": 0,
      "outputs": []
    },
    {
      "cell_type": "code",
      "metadata": {
        "id": "MW9sZ2XN3jWz",
        "colab_type": "code",
        "colab": {}
      },
      "source": [
        "from sklearn.model_selection import train_test_split\n",
        "\n",
        "x_train,x_test,y_train,y_test = train_test_split(x,y)\n",
        "x_val,x_test,y_val,y_test = train_test_split(x_test,y_test)"
      ],
      "execution_count": 0,
      "outputs": []
    },
    {
      "cell_type": "code",
      "metadata": {
        "id": "NrHB63OOLmRv",
        "colab_type": "code",
        "colab": {
          "base_uri": "https://localhost:8080/",
          "height": 937
        },
        "outputId": "cd5d09be-49c1-4aea-ecf2-acef738eed35"
      },
      "source": [
        "from keras.wrappers.scikit_learn import KerasClassifier\n",
        "from sklearn.model_selection import GridSearchCV\n",
        "\n",
        "\n",
        "def create_model():\n",
        "  model = Sequential()\n",
        "  model.add(Dense(12, input_shape=(inputs,),activation='relu'))\n",
        "  model.add(Dense(12, activation='relu'))\n",
        "  model.add(Dense(1))\n",
        "  model.compile(optimizer='adam', loss='binary_crossentropy',metrics=['accuracy'])\n",
        "  return model\n",
        "\n",
        "model = KerasClassifier(build_fn=create_model, verbose=1)\n",
        "\n",
        "param_grid={\n",
        "    'batch_size':[10,20,40,60,80,100],\n",
        "    'epochs':[20]\n",
        "}\n",
        "\n",
        "grid = GridSearchCV(estimator=model, param_grid=param_grid, n_jobs=-1)\n",
        "grid_result = grid.fit(x_train,y_train)\n",
        "\n",
        "print(f\"Best: {grid_result.best_score_} using {grid_result.best_params_}\")\n",
        "means = grid_result.cv_results_['mean_test_score']\n",
        "stds = grid_result.cv_results_['std_test_score']\n",
        "params = grid_result.cv_results_['params']\n",
        "for mean, stdev, param in zip(means, stds, params):\n",
        "    print(f\"Means: {mean}, Stdev: {stdev} with: {param}\") "
      ],
      "execution_count": 17,
      "outputs": [
        {
          "output_type": "stream",
          "text": [
            "/usr/local/lib/python3.6/dist-packages/sklearn/model_selection/_split.py:1978: FutureWarning: The default value of cv will change from 3 to 5 in version 0.22. Specify it explicitly to silence this warning.\n",
            "  warnings.warn(CV_WARNING, FutureWarning)\n"
          ],
          "name": "stderr"
        },
        {
          "output_type": "stream",
          "text": [
            "Epoch 1/20\n",
            "5274/5274 [==============================] - 0s 70us/step - loss: 2.1397 - acc: 0.4206\n",
            "Epoch 2/20\n",
            "5274/5274 [==============================] - 0s 23us/step - loss: 1.3367 - acc: 0.4433\n",
            "Epoch 3/20\n",
            "5274/5274 [==============================] - 0s 22us/step - loss: 1.1984 - acc: 0.4623\n",
            "Epoch 4/20\n",
            "5274/5274 [==============================] - 0s 21us/step - loss: 1.1048 - acc: 0.4772\n",
            "Epoch 5/20\n",
            "5274/5274 [==============================] - 0s 25us/step - loss: 1.0252 - acc: 0.4900\n",
            "Epoch 6/20\n",
            "5274/5274 [==============================] - 0s 22us/step - loss: 0.9616 - acc: 0.4956\n",
            "Epoch 7/20\n",
            "5274/5274 [==============================] - 0s 22us/step - loss: 0.9166 - acc: 0.5040\n",
            "Epoch 8/20\n",
            "5274/5274 [==============================] - 0s 22us/step - loss: 0.8713 - acc: 0.5123\n",
            "Epoch 9/20\n",
            "5274/5274 [==============================] - 0s 23us/step - loss: 0.8143 - acc: 0.5305\n",
            "Epoch 10/20\n",
            "5274/5274 [==============================] - 0s 22us/step - loss: 0.7993 - acc: 0.5267\n",
            "Epoch 11/20\n",
            "5274/5274 [==============================] - 0s 22us/step - loss: 0.7756 - acc: 0.5372\n",
            "Epoch 12/20\n",
            "5274/5274 [==============================] - 0s 22us/step - loss: 0.7123 - acc: 0.5616\n",
            "Epoch 13/20\n",
            "5274/5274 [==============================] - 0s 23us/step - loss: 0.6759 - acc: 0.5694\n",
            "Epoch 14/20\n",
            "5274/5274 [==============================] - 0s 23us/step - loss: 0.6548 - acc: 0.5681\n",
            "Epoch 15/20\n",
            "5274/5274 [==============================] - 0s 21us/step - loss: 0.6458 - acc: 0.5645\n",
            "Epoch 16/20\n",
            "5274/5274 [==============================] - 0s 22us/step - loss: 0.6392 - acc: 0.5645\n",
            "Epoch 17/20\n",
            "5274/5274 [==============================] - 0s 23us/step - loss: 0.6348 - acc: 0.5573\n",
            "Epoch 18/20\n",
            "5274/5274 [==============================] - 0s 23us/step - loss: 0.6339 - acc: 0.5643\n",
            "Epoch 19/20\n",
            "5274/5274 [==============================] - 0s 23us/step - loss: 0.6235 - acc: 0.5601\n",
            "Epoch 20/20\n",
            "5274/5274 [==============================] - 0s 23us/step - loss: 0.6172 - acc: 0.5779\n",
            "Best: 0.7506636321476837 using {'batch_size': 60, 'epochs': 20}\n",
            "Means: 0.7432688660792524, Stdev: 0.025085832237558368 with: {'batch_size': 10, 'epochs': 20}\n",
            "Means: 0.6609783841888246, Stdev: 0.07852851554360012 with: {'batch_size': 20, 'epochs': 20}\n",
            "Means: 0.7358740988580575, Stdev: 0.037043292660626746 with: {'batch_size': 40, 'epochs': 20}\n",
            "Means: 0.7506636321476837, Stdev: 0.01672221650718053 with: {'batch_size': 60, 'epochs': 20}\n",
            "Means: 0.7402351150966567, Stdev: 0.010685629537762694 with: {'batch_size': 80, 'epochs': 20}\n",
            "Means: 0.5614334484212634, Stdev: 0.1265443593201592 with: {'batch_size': 100, 'epochs': 20}\n"
          ],
          "name": "stdout"
        }
      ]
    },
    {
      "cell_type": "code",
      "metadata": {
        "id": "alOjXzUGOAOw",
        "colab_type": "code",
        "colab": {}
      },
      "source": [
        "\n",
        "param_grid={\n",
        "    'batch_size':[10,20],\n",
        "    'epochs':[20, 40, 60]\n",
        "}\n",
        "\n",
        "grid = GridSearchCV(estimator=model, param_grid=param_grid, n_jobs=-1)\n",
        "grid_result = grid.fit(x,y)\n",
        "\n",
        "print(f\"Best: {grid_result.best_score_} using {grid_result.best_params_}\")\n",
        "means = grid_result.cv_results_['mean_test_score']\n",
        "stds = grid_result.cv_results_['std_test_score']\n",
        "params = grid_result.cv_results_['params']\n",
        "for mean, stdev, param in zip(means, stds, params):\n",
        "    print(f\"Means: {mean}, Stdev: {stdev} with: {param}\") "
      ],
      "execution_count": 0,
      "outputs": []
    },
    {
      "cell_type": "code",
      "metadata": {
        "id": "Ek8ja92Gy3u0",
        "colab_type": "code",
        "colab": {}
      },
      "source": [
        "!pip install talos"
      ],
      "execution_count": 0,
      "outputs": []
    },
    {
      "cell_type": "code",
      "metadata": {
        "id": "17tW3NPOSCKn",
        "colab_type": "code",
        "colab": {}
      },
      "source": [
        "import talos\n",
        "from keras.activations import relu, elu\n",
        "'''Hyperparameter tune (at least) the following parameters:\n",
        "\n",
        "    batch_size\n",
        "    training epochs\n",
        "    optimizer\n",
        "    learning rate (if applicable to optimizer)\n",
        "    momentum (if applicable to optimizer)\n",
        "    activation functions\n",
        "    network weight initialization\n",
        "    dropout regularization\n",
        "    number of neurons in the hidden layer\n",
        "'''\n",
        "\n",
        "def create_model(x_train,y_train,x_val,y_val,params):\n",
        "  model = Sequential()\n",
        "  model.add(Dense(params['first_neuron'], input_dim=x_train.shape[1],activation=params['activation']))\n",
        "  model.add(Dropout(params['dropout']))\n",
        "  model.add(Dense(params['second_neuron'], activation=params['last_activation']))\n",
        "  model.add(Dense(1))\n",
        "  model.compile(optimizer='adam', loss=params['losses'],metrics=['accuracy'])\n",
        "  \n",
        "  history = model.fit(x_train,y_train,\n",
        "                     validation_data=[x_val,y_val],\n",
        "                     batch_size=params['batch_size'],\n",
        "                     callbacks=[live()],\n",
        "                     epochs=params['epochs'],\n",
        "                     verbose=1)\n",
        "  \n",
        "  return history,model\n",
        "\n",
        "\n"
      ],
      "execution_count": 0,
      "outputs": []
    },
    {
      "cell_type": "code",
      "metadata": {
        "id": "VDu257rB4KcW",
        "colab_type": "code",
        "colab": {}
      },
      "source": [
        "from keras.layers import Dropout\n",
        "\n",
        "# Keras items\n",
        "from keras.optimizers import Adam, Nadam\n",
        "from keras.activations import relu, elu\n",
        "from keras.losses import binary_crossentropy\n",
        "\n",
        "p={\n",
        "    'batch_size':[10,20,40],\n",
        "    'epochs':[20],\n",
        "    'first_neuron':[5],\n",
        "    'second_neuron':[5],\n",
        "    'activation':[relu],\n",
        "    'last_activation':[relu],\n",
        "    'dropout':[0],\n",
        "    #'optimizer':[Adam],\n",
        "    'losses':[binary_crossentropy]    \n",
        "}"
      ],
      "execution_count": 0,
      "outputs": []
    },
    {
      "cell_type": "code",
      "metadata": {
        "id": "RhpPZT0t4veY",
        "colab_type": "code",
        "colab": {
          "base_uri": "https://localhost:8080/",
          "height": 515
        },
        "outputId": "cbddf6ff-6174-4559-a611-e76483c893bb"
      },
      "source": [
        "t = talos.Scan(x=x,\n",
        "              y=y.values,\n",
        "              model=create_model,\n",
        "              params=p,\n",
        "              dataset_name='churn',\n",
        "              experiment_no='1')"
      ],
      "execution_count": 48,
      "outputs": [
        {
          "output_type": "display_data",
          "data": {
            "image/png": "[encoded data removed]",
            "text/plain": [
              "<Figure size 864x576 with 2 Axes>"
            ]
          },
          "metadata": {
            "tags": []
          }
        },
        {
          "output_type": "stream",
          "text": [
            "\n",
            "\n",
            "\n",
            "\n",
            "\n",
            "100%|██████████| 3/3 [00:54<00:00, 16.75s/it]\u001b[A\u001b[A\u001b[A\u001b[A\u001b[A\n",
            "\n",
            "\n",
            "\n",
            "\n",
            "\u001b[A\u001b[A\u001b[A\u001b[A\u001b[A"
          ],
          "name": "stderr"
        }
      ]
    },
    {
      "cell_type": "code",
      "metadata": {
        "id": "jcgX85RIm-VC",
        "colab_type": "code",
        "colab": {
          "base_uri": "https://localhost:8080/",
          "height": 320
        },
        "outputId": "0e386582-45d6-46a4-e6d2-291c1b0849b0"
      },
      "source": [
        "t.data.head()"
      ],
      "execution_count": 49,
      "outputs": [
        {
          "output_type": "execute_result",
          "data": {
            "text/html": [
              "<div>\n",
              "<style scoped>\n",
              "    .dataframe tbody tr th:only-of-type {\n",
              "        vertical-align: middle;\n",
              "    }\n",
              "\n",
              "    .dataframe tbody tr th {\n",
              "        vertical-align: top;\n",
              "    }\n",
              "\n",
              "    .dataframe thead th {\n",
              "        text-align: right;\n",
              "    }\n",
              "</style>\n",
              "<table border=\"1\" class=\"dataframe\">\n",
              "  <thead>\n",
              "    <tr style=\"text-align: right;\">\n",
              "      <th></th>\n",
              "      <th>round_epochs</th>\n",
              "      <th>val_loss</th>\n",
              "      <th>val_acc</th>\n",
              "      <th>loss</th>\n",
              "      <th>acc</th>\n",
              "      <th>batch_size</th>\n",
              "      <th>epochs</th>\n",
              "      <th>first_neuron</th>\n",
              "      <th>second_neuron</th>\n",
              "      <th>activation</th>\n",
              "      <th>last_activation</th>\n",
              "      <th>dropout</th>\n",
              "      <th>losses</th>\n",
              "    </tr>\n",
              "  </thead>\n",
              "  <tbody>\n",
              "    <tr>\n",
              "      <th>0</th>\n",
              "      <td>20</td>\n",
              "      <td>0.486129</td>\n",
              "      <td>0.780095</td>\n",
              "      <td>0.495468</td>\n",
              "      <td>0.771841</td>\n",
              "      <td>40</td>\n",
              "      <td>20</td>\n",
              "      <td>5</td>\n",
              "      <td>5</td>\n",
              "      <td>&lt;function relu at 0x7f2a04572bf8&gt;</td>\n",
              "      <td>&lt;function relu at 0x7f2a04572bf8&gt;</td>\n",
              "      <td>0</td>\n",
              "      <td>&lt;function binary_crossentropy at 0x7f2a045b8d08&gt;</td>\n",
              "    </tr>\n",
              "    <tr>\n",
              "      <th>1</th>\n",
              "      <td>20</td>\n",
              "      <td>0.454187</td>\n",
              "      <td>0.801422</td>\n",
              "      <td>0.452563</td>\n",
              "      <td>0.787891</td>\n",
              "      <td>10</td>\n",
              "      <td>20</td>\n",
              "      <td>5</td>\n",
              "      <td>5</td>\n",
              "      <td>&lt;function relu at 0x7f2a04572bf8&gt;</td>\n",
              "      <td>&lt;function relu at 0x7f2a04572bf8&gt;</td>\n",
              "      <td>0</td>\n",
              "      <td>&lt;function binary_crossentropy at 0x7f2a045b8d08&gt;</td>\n",
              "    </tr>\n",
              "    <tr>\n",
              "      <th>2</th>\n",
              "      <td>20</td>\n",
              "      <td>0.488817</td>\n",
              "      <td>0.792417</td>\n",
              "      <td>0.496512</td>\n",
              "      <td>0.776310</td>\n",
              "      <td>20</td>\n",
              "      <td>20</td>\n",
              "      <td>5</td>\n",
              "      <td>5</td>\n",
              "      <td>&lt;function relu at 0x7f2a04572bf8&gt;</td>\n",
              "      <td>&lt;function relu at 0x7f2a04572bf8&gt;</td>\n",
              "      <td>0</td>\n",
              "      <td>&lt;function binary_crossentropy at 0x7f2a045b8d08&gt;</td>\n",
              "    </tr>\n",
              "  </tbody>\n",
              "</table>\n",
              "</div>"
            ],
            "text/plain": [
              "   round_epochs  ...                                            losses\n",
              "0            20  ...  <function binary_crossentropy at 0x7f2a045b8d08>\n",
              "1            20  ...  <function binary_crossentropy at 0x7f2a045b8d08>\n",
              "2            20  ...  <function binary_crossentropy at 0x7f2a045b8d08>\n",
              "\n",
              "[3 rows x 13 columns]"
            ]
          },
          "metadata": {
            "tags": []
          },
          "execution_count": 49
        }
      ]
    },
    {
      "cell_type": "code",
      "metadata": {
        "id": "_v0PM9RtnIT5",
        "colab_type": "code",
        "colab": {
          "base_uri": "https://localhost:8080/",
          "height": 143
        },
        "outputId": "0765868c-c594-4b0d-9341-1d69525d8300"
      },
      "source": [
        "t.peak_epochs_df"
      ],
      "execution_count": 51,
      "outputs": [
        {
          "output_type": "execute_result",
          "data": {
            "text/html": [
              "<div>\n",
              "<style scoped>\n",
              "    .dataframe tbody tr th:only-of-type {\n",
              "        vertical-align: middle;\n",
              "    }\n",
              "\n",
              "    .dataframe tbody tr th {\n",
              "        vertical-align: top;\n",
              "    }\n",
              "\n",
              "    .dataframe thead th {\n",
              "        text-align: right;\n",
              "    }\n",
              "</style>\n",
              "<table border=\"1\" class=\"dataframe\">\n",
              "  <thead>\n",
              "    <tr style=\"text-align: right;\">\n",
              "      <th></th>\n",
              "      <th>val_loss</th>\n",
              "      <th>val_acc</th>\n",
              "      <th>loss</th>\n",
              "      <th>acc</th>\n",
              "      <th>acc_epoch</th>\n",
              "      <th>loss_epoch</th>\n",
              "    </tr>\n",
              "  </thead>\n",
              "  <tbody>\n",
              "    <tr>\n",
              "      <th>1</th>\n",
              "      <td>19</td>\n",
              "      <td>19</td>\n",
              "      <td>19</td>\n",
              "      <td>19</td>\n",
              "      <td>0.000857</td>\n",
              "      <td>0.019052</td>\n",
              "    </tr>\n",
              "    <tr>\n",
              "      <th>2</th>\n",
              "      <td>15</td>\n",
              "      <td>15</td>\n",
              "      <td>17</td>\n",
              "      <td>17</td>\n",
              "      <td>0.000083</td>\n",
              "      <td>0.006112</td>\n",
              "    </tr>\n",
              "    <tr>\n",
              "      <th>3</th>\n",
              "      <td>19</td>\n",
              "      <td>16</td>\n",
              "      <td>19</td>\n",
              "      <td>19</td>\n",
              "      <td>0.000048</td>\n",
              "      <td>0.003262</td>\n",
              "    </tr>\n",
              "  </tbody>\n",
              "</table>\n",
              "</div>"
            ],
            "text/plain": [
              "  val_loss val_acc loss acc  acc_epoch  loss_epoch\n",
              "1       19      19   19  19   0.000857    0.019052\n",
              "2       15      15   17  17   0.000083    0.006112\n",
              "3       19      16   19  19   0.000048    0.003262"
            ]
          },
          "metadata": {
            "tags": []
          },
          "execution_count": 51
        }
      ]
    },
    {
      "cell_type": "code",
      "metadata": {
        "id": "J3swHhTenZtO",
        "colab_type": "code",
        "colab": {
          "base_uri": "https://localhost:8080/",
          "height": 35
        },
        "outputId": "6ab6d20d-7bee-473f-a908-1c0171bd46c2"
      },
      "source": [
        "r = talos.Reporting(t)\n"
      ],
      "execution_count": 52,
      "outputs": [
        {
          "output_type": "execute_result",
          "data": {
            "text/plain": [
              "<bound method Reporting.best_params of <talos.commands.reporting.Reporting object at 0x7f29e763bc88>>"
            ]
          },
          "metadata": {
            "tags": []
          },
          "execution_count": 52
        }
      ]
    },
    {
      "cell_type": "code",
      "metadata": {
        "id": "xKTqfujmnpNF",
        "colab_type": "code",
        "colab": {
          "base_uri": "https://localhost:8080/",
          "height": 480
        },
        "outputId": "e52c9a47-3295-465f-ad30-b58bf60e2608"
      },
      "source": [
        "r.plot_line()"
      ],
      "execution_count": 54,
      "outputs": [
        {
          "output_type": "display_data",
          "data": {
            "image/png": "[encoded data removed]",
            "text/plain": [
              "<Figure size 864x475.2 with 1 Axes>"
            ]
          },
          "metadata": {
            "tags": []
          }
        }
      ]
    },
    {
      "cell_type": "code",
      "metadata": {
        "id": "2nNi0atAn9qC",
        "colab_type": "code",
        "colab": {
          "base_uri": "https://localhost:8080/",
          "height": 480
        },
        "outputId": "1ca14f37-da37-400b-9c36-118bb7548d17"
      },
      "source": [
        "r.plot_regs()"
      ],
      "execution_count": 56,
      "outputs": [
        {
          "output_type": "display_data",
          "data": {
            "image/png": "[encoded data removed]",
            "text/plain": [
              "<Figure size 720x475.2 with 1 Axes>"
            ]
          },
          "metadata": {
            "tags": []
          }
        }
      ]
    },
    {
      "cell_type": "code",
      "metadata": {
        "id": "KgSzEmYaoD4D",
        "colab_type": "code",
        "colab": {
          "base_uri": "https://localhost:8080/",
          "height": 182
        },
        "outputId": "915388b7-b45b-472e-aede-5b2f2e5bd73f"
      },
      "source": [
        "r.best_params()"
      ],
      "execution_count": 57,
      "outputs": [
        {
          "output_type": "execute_result",
          "data": {
            "text/plain": [
              "array([['<function relu at 0x7f2a04572bf8>', 20, 5, 5, 1,\n",
              "        '<function binary_crossentropy at 0x7f2a045b8d08>', 0, 10,\n",
              "        '<function relu at 0x7f2a04572bf8>', 0],\n",
              "       ['<function relu at 0x7f2a04572bf8>', 20, 5, 5, 2,\n",
              "        '<function binary_crossentropy at 0x7f2a045b8d08>', 0, 20,\n",
              "        '<function relu at 0x7f2a04572bf8>', 1],\n",
              "       ['<function relu at 0x7f2a04572bf8>', 20, 5, 5, 0,\n",
              "        '<function binary_crossentropy at 0x7f2a045b8d08>', 0, 40,\n",
              "        '<function relu at 0x7f2a04572bf8>', 2]], dtype=object)"
            ]
          },
          "metadata": {
            "tags": []
          },
          "execution_count": 57
        }
      ]
    },
    {
      "cell_type": "code",
      "metadata": {
        "id": "C78cG9TwoOHW",
        "colab_type": "code",
        "colab": {
          "base_uri": "https://localhost:8080/",
          "height": 146
        },
        "outputId": "05d1dab5-2c8b-41c6-fcfb-3836f27b0898"
      },
      "source": [
        "r.correlate('val_loss')"
      ],
      "execution_count": 61,
      "outputs": [
        {
          "output_type": "execute_result",
          "data": {
            "text/plain": [
              "batch_size       0.708407\n",
              "epochs                NaN\n",
              "first_neuron          NaN\n",
              "second_neuron         NaN\n",
              "dropout               NaN\n",
              "NaN              0.069776\n",
              "Name: val_loss, dtype: float64"
            ]
          },
          "metadata": {
            "tags": []
          },
          "execution_count": 61
        }
      ]
    },
    {
      "cell_type": "code",
      "metadata": {
        "id": "WeGeeGHsoqf7",
        "colab_type": "code",
        "colab": {
          "base_uri": "https://localhost:8080/",
          "height": 480
        },
        "outputId": "9ee7a18d-8e65-4d15-f277-b1ee67d28d4e"
      },
      "source": [
        "r.plot_hist(bins=50)"
      ],
      "execution_count": 62,
      "outputs": [
        {
          "output_type": "display_data",
          "data": {
            "image/png": "[encoded data removed]",
            "text/plain": [
              "<Figure size 720x475.2 with 1 Axes>"
            ]
          },
          "metadata": {
            "tags": []
          }
        }
      ]
    },
    {
      "cell_type": "code",
      "metadata": {
        "id": "yBZcyxnOoxc-",
        "colab_type": "code",
        "colab": {
          "base_uri": "https://localhost:8080/",
          "height": 597
        },
        "outputId": "c1be1f11-ee32-45fe-d19b-505376bcdc3e"
      },
      "source": [
        "r.plot_corr()"
      ],
      "execution_count": 63,
      "outputs": [
        {
          "output_type": "display_data",
          "data": {
            "image/png": "[encoded data removed]",
            "text/plain": [
              "<Figure size 612x612 with 2 Axes>"
            ]
          },
          "metadata": {
            "tags": []
          }
        }
      ]
    },
    {
      "cell_type": "markdown",
      "metadata": {
        "colab_type": "text",
        "id": "FfZRtJ7MCN3x"
      },
      "source": [
        "## Stretch Goals:\n",
        "\n",
        "- Try to implement Random Search Hyperparameter Tuning on this dataset\n",
        "- Try to implement Bayesian Optimiation tuning on this dataset\n",
        "- Practice hyperparameter tuning other datasets that we have looked at. How high can you get MNIST? Above 99%?\n",
        "- Study for the Sprint Challenge\n",
        " - Can you implement both perceptron and MLP models from scratch with forward and backpropagation?\n",
        " - Can you implement both perceptron and MLP models in keras and tune their hyperparameters with cross validation?"
      ]
    }
  ]
}